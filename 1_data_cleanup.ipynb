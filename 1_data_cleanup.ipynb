{
 "cells": [
  {
   "cell_type": "code",
   "execution_count": 1,
   "metadata": {
    "collapsed": true
   },
   "outputs": [],
   "source": [
    "import pandas as pd\n",
    "import numpy as np"
   ]
  },
  {
   "cell_type": "markdown",
   "metadata": {},
   "source": [
    "# 1.0 Cleaning Data\n",
    "## 1.1 Splitting violation codes out\n",
    "First I want to break out the violations into their own table so we can extract the violation codes"
   ]
  },
  {
   "cell_type": "code",
   "execution_count": 2,
   "metadata": {
    "collapsed": true
   },
   "outputs": [],
   "source": [
    "healthdf = pd.read_csv('/home/michael/Downloads/Food_Inspections.csv')"
   ]
  },
  {
   "cell_type": "code",
   "execution_count": 3,
   "metadata": {},
   "outputs": [
    {
     "data": {
      "text/html": [
       "<div>\n",
       "<style>\n",
       "    .dataframe thead tr:only-child th {\n",
       "        text-align: right;\n",
       "    }\n",
       "\n",
       "    .dataframe thead th {\n",
       "        text-align: left;\n",
       "    }\n",
       "\n",
       "    .dataframe tbody tr th {\n",
       "        vertical-align: top;\n",
       "    }\n",
       "</style>\n",
       "<table border=\"1\" class=\"dataframe\">\n",
       "  <thead>\n",
       "    <tr style=\"text-align: right;\">\n",
       "      <th></th>\n",
       "      <th>Inspection ID</th>\n",
       "      <th>DBA Name</th>\n",
       "      <th>AKA Name</th>\n",
       "      <th>License #</th>\n",
       "      <th>Facility Type</th>\n",
       "      <th>Risk</th>\n",
       "      <th>Address</th>\n",
       "      <th>City</th>\n",
       "      <th>State</th>\n",
       "      <th>Zip</th>\n",
       "      <th>Inspection Date</th>\n",
       "      <th>Inspection Type</th>\n",
       "      <th>Results</th>\n",
       "      <th>Violations</th>\n",
       "      <th>Latitude</th>\n",
       "      <th>Longitude</th>\n",
       "      <th>Location</th>\n",
       "    </tr>\n",
       "  </thead>\n",
       "  <tbody>\n",
       "    <tr>\n",
       "      <th>0</th>\n",
       "      <td>2144504</td>\n",
       "      <td>TAQUERIA EL RANCHITO</td>\n",
       "      <td>TAQUERIA EL RANCHITO</td>\n",
       "      <td>60184.0</td>\n",
       "      <td>Restaurant</td>\n",
       "      <td>Risk 1 (High)</td>\n",
       "      <td>2829 N MILWAUKEE AVE</td>\n",
       "      <td>CHICAGO</td>\n",
       "      <td>IL</td>\n",
       "      <td>60618.0</td>\n",
       "      <td>02/02/2018</td>\n",
       "      <td>Canvass Re-Inspection</td>\n",
       "      <td>Pass</td>\n",
       "      <td>31. CLEAN MULTI-USE UTENSILS AND SINGLE SERVIC...</td>\n",
       "      <td>41.932657</td>\n",
       "      <td>-87.713056</td>\n",
       "      <td>(41.93265693660558, -87.71305610116421)</td>\n",
       "    </tr>\n",
       "    <tr>\n",
       "      <th>1</th>\n",
       "      <td>2144489</td>\n",
       "      <td>EL TACONAZO JR.</td>\n",
       "      <td>EL TACONAZO JR.</td>\n",
       "      <td>2354772.0</td>\n",
       "      <td>Restaurant</td>\n",
       "      <td>Risk 1 (High)</td>\n",
       "      <td>4256 W FULLERTON AVE</td>\n",
       "      <td>CHICAGO</td>\n",
       "      <td>IL</td>\n",
       "      <td>60639.0</td>\n",
       "      <td>02/02/2018</td>\n",
       "      <td>Canvass</td>\n",
       "      <td>Pass w/ Conditions</td>\n",
       "      <td>3. POTENTIALLY HAZARDOUS FOOD MEETS TEMPERATUR...</td>\n",
       "      <td>41.924508</td>\n",
       "      <td>-87.733980</td>\n",
       "      <td>(41.92450769084945, -87.73398032565292)</td>\n",
       "    </tr>\n",
       "    <tr>\n",
       "      <th>2</th>\n",
       "      <td>2144480</td>\n",
       "      <td>BRICK HOUSE BAR AND GRILL</td>\n",
       "      <td>BRICK HOUSE BAR AND GRILL</td>\n",
       "      <td>1969907.0</td>\n",
       "      <td>Restaurant</td>\n",
       "      <td>Risk 1 (High)</td>\n",
       "      <td>3152-3154 W IRVING PARK RD</td>\n",
       "      <td>CHICAGO</td>\n",
       "      <td>IL</td>\n",
       "      <td>60618.0</td>\n",
       "      <td>02/02/2018</td>\n",
       "      <td>Canvass Re-Inspection</td>\n",
       "      <td>Pass</td>\n",
       "      <td>18. NO EVIDENCE OF RODENT OR INSECT OUTER OPEN...</td>\n",
       "      <td>41.954032</td>\n",
       "      <td>-87.707720</td>\n",
       "      <td>(41.95403155441393, -87.70771986355506)</td>\n",
       "    </tr>\n",
       "    <tr>\n",
       "      <th>3</th>\n",
       "      <td>2144477</td>\n",
       "      <td>THE VEGGIE GRILL</td>\n",
       "      <td>THE VEGGIE GRILL</td>\n",
       "      <td>2563666.0</td>\n",
       "      <td>NaN</td>\n",
       "      <td>Risk 1 (High)</td>\n",
       "      <td>614 W DIVERSEY AVE</td>\n",
       "      <td>CHICAGO</td>\n",
       "      <td>IL</td>\n",
       "      <td>60614.0</td>\n",
       "      <td>02/02/2018</td>\n",
       "      <td>License</td>\n",
       "      <td>Not Ready</td>\n",
       "      <td>NaN</td>\n",
       "      <td>41.932917</td>\n",
       "      <td>-87.644572</td>\n",
       "      <td>(41.93291687750861, -87.64457163885304)</td>\n",
       "    </tr>\n",
       "    <tr>\n",
       "      <th>4</th>\n",
       "      <td>2144474</td>\n",
       "      <td>SMOQUE BBQ</td>\n",
       "      <td>SMOQUE BBQ</td>\n",
       "      <td>1694866.0</td>\n",
       "      <td>Restaurant</td>\n",
       "      <td>Risk 1 (High)</td>\n",
       "      <td>3800 N PULASKI RD</td>\n",
       "      <td>CHICAGO</td>\n",
       "      <td>IL</td>\n",
       "      <td>60641.0</td>\n",
       "      <td>02/02/2018</td>\n",
       "      <td>Canvass</td>\n",
       "      <td>Pass w/ Conditions</td>\n",
       "      <td>38. VENTILATION: ROOMS AND EQUIPMENT VENTED AS...</td>\n",
       "      <td>41.950073</td>\n",
       "      <td>-87.727657</td>\n",
       "      <td>(41.95007328750793, -87.72765652046023)</td>\n",
       "    </tr>\n",
       "  </tbody>\n",
       "</table>\n",
       "</div>"
      ],
      "text/plain": [
       "   Inspection ID                   DBA Name                   AKA Name  \\\n",
       "0        2144504       TAQUERIA EL RANCHITO       TAQUERIA EL RANCHITO   \n",
       "1        2144489            EL TACONAZO JR.            EL TACONAZO JR.   \n",
       "2        2144480  BRICK HOUSE BAR AND GRILL  BRICK HOUSE BAR AND GRILL   \n",
       "3        2144477           THE VEGGIE GRILL           THE VEGGIE GRILL   \n",
       "4        2144474                 SMOQUE BBQ                 SMOQUE BBQ   \n",
       "\n",
       "   License # Facility Type           Risk                      Address  \\\n",
       "0    60184.0    Restaurant  Risk 1 (High)        2829 N MILWAUKEE AVE    \n",
       "1  2354772.0    Restaurant  Risk 1 (High)        4256 W FULLERTON AVE    \n",
       "2  1969907.0    Restaurant  Risk 1 (High)  3152-3154 W IRVING PARK RD    \n",
       "3  2563666.0           NaN  Risk 1 (High)          614 W DIVERSEY AVE    \n",
       "4  1694866.0    Restaurant  Risk 1 (High)           3800 N PULASKI RD    \n",
       "\n",
       "      City State      Zip Inspection Date        Inspection Type  \\\n",
       "0  CHICAGO    IL  60618.0      02/02/2018  Canvass Re-Inspection   \n",
       "1  CHICAGO    IL  60639.0      02/02/2018                Canvass   \n",
       "2  CHICAGO    IL  60618.0      02/02/2018  Canvass Re-Inspection   \n",
       "3  CHICAGO    IL  60614.0      02/02/2018                License   \n",
       "4  CHICAGO    IL  60641.0      02/02/2018                Canvass   \n",
       "\n",
       "              Results                                         Violations  \\\n",
       "0                Pass  31. CLEAN MULTI-USE UTENSILS AND SINGLE SERVIC...   \n",
       "1  Pass w/ Conditions  3. POTENTIALLY HAZARDOUS FOOD MEETS TEMPERATUR...   \n",
       "2                Pass  18. NO EVIDENCE OF RODENT OR INSECT OUTER OPEN...   \n",
       "3           Not Ready                                                NaN   \n",
       "4  Pass w/ Conditions  38. VENTILATION: ROOMS AND EQUIPMENT VENTED AS...   \n",
       "\n",
       "    Latitude  Longitude                                 Location  \n",
       "0  41.932657 -87.713056  (41.93265693660558, -87.71305610116421)  \n",
       "1  41.924508 -87.733980  (41.92450769084945, -87.73398032565292)  \n",
       "2  41.954032 -87.707720  (41.95403155441393, -87.70771986355506)  \n",
       "3  41.932917 -87.644572  (41.93291687750861, -87.64457163885304)  \n",
       "4  41.950073 -87.727657  (41.95007328750793, -87.72765652046023)  "
      ]
     },
     "execution_count": 3,
     "metadata": {},
     "output_type": "execute_result"
    }
   ],
   "source": [
    "healthdf.head()"
   ]
  },
  {
   "cell_type": "code",
   "execution_count": 4,
   "metadata": {
    "scrolled": true
   },
   "outputs": [
    {
     "data": {
      "text/plain": [
       "'31. CLEAN MULTI-USE UTENSILS AND SINGLE SERVICE ARTICLES PROPERLY STORED: NO REUSE OF SINGLE SERVICE ARTICLES - Comments: OBSERVED CUPS USED TO DISPENSE FOOD IN THE CONTAINERS OF CHEESE AND GIARDINNARA IN THE COLD HOLDING REFRIGERATION UNIT. INSTRUCTED TO USE HANDLED SCOOPS TO DISPENSE FOOD AND TO STORE HANDLED SCOOPS EITHER IN THE FOOD WITH THE HANDLE FACING UP OUT OF THE FOOD OR IN A SEPARATE CONTAINER IN BETWEEN USE. | 35. WALLS, CEILINGS, ATTACHED EQUIPMENT CONSTRUCTED PER CODE: GOOD REPAIR, SURFACES CLEAN AND DUST-LESS CLEANING METHODS - Comments: MUST DETAIL CLEAN THE FOOD SPLATTER ON THE WALLS BEHIND THE HOT HOLDING UNITS AND THE REFRIGERATION UNITS ACROSS THE COOKING EQUIPMENT ON THE LINE. \\n | 36. LIGHTING: REQUIRED MINIMUM FOOT-CANDLES OF LIGHT PROVIDED, FIXTURES SHIELDED - Comments: OBSERVED MISSING LIGHT SHIELDS ABOVE THE PREP AREA IN THE KITCHEN. INSTRUCTED TO PROVIDE MISSING SHIELDS TO PROTECT LIGHT FIXTURES AT ALL TIMES.'"
      ]
     },
     "execution_count": 4,
     "metadata": {},
     "output_type": "execute_result"
    }
   ],
   "source": [
    "healthdf.iloc[0]['Violations']"
   ]
  },
  {
   "cell_type": "code",
   "execution_count": 5,
   "metadata": {},
   "outputs": [
    {
     "data": {
      "text/plain": [
       "(131495, 2)"
      ]
     },
     "execution_count": 5,
     "metadata": {},
     "output_type": "execute_result"
    }
   ],
   "source": [
    "violations = healthdf[['Inspection ID','Violations']]\n",
    "violations = violations.dropna()\n",
    "violations.shape"
   ]
  },
  {
   "cell_type": "code",
   "execution_count": 6,
   "metadata": {
    "collapsed": true
   },
   "outputs": [],
   "source": [
    "def split_codes(df):\n",
    "    '''\n",
    "    function to split the violations into an inspection id, violation code, \n",
    "    violation code description and the comment on the violation\n",
    "    '''\n",
    "    result = pd.DataFrame()\n",
    "    for index, rows in df.iterrows():\n",
    "        x = pd.DataFrame(rows['Violations'].split('|'),columns = ['fulldesc'])\n",
    "        x['fulldesc'] = x['fulldesc'].str.strip()\n",
    "        x['Inspection ID'] = rows['Inspection ID']\n",
    "        x['vcode'] = x['fulldesc'].str.split('.').str[0]\n",
    "        x['codedesc'] = x['fulldesc'].str.split(' - ').str[0]\n",
    "        x['comment'] = x['fulldesc'].str.split(' - ').str[1]\n",
    "        x['comment'] = x['comment'].str[9:]\n",
    "        result = result.append(x)\n",
    "    return result[['Inspection ID','vcode','codedesc','comment']]"
   ]
  },
  {
   "cell_type": "code",
   "execution_count": null,
   "metadata": {
    "collapsed": true
   },
   "outputs": [],
   "source": [
    "viodf = split_codes(violations)"
   ]
  },
  {
   "cell_type": "code",
   "execution_count": null,
   "metadata": {
    "collapsed": true
   },
   "outputs": [],
   "source": [
    "viodf.tail()"
   ]
  },
  {
   "cell_type": "code",
   "execution_count": null,
   "metadata": {
    "collapsed": true
   },
   "outputs": [],
   "source": [
    "viodf.to_pickle('/home/michael/chicagohealthinspections/data/violations.pkl')"
   ]
  },
  {
   "cell_type": "markdown",
   "metadata": {},
   "source": [
    "## 1.2 Clean Business Info\n",
    "Now we need to fix some of the business info before we add it all to the database"
   ]
  },
  {
   "cell_type": "code",
   "execution_count": null,
   "metadata": {
    "collapsed": true
   },
   "outputs": [],
   "source": [
    "businfodf = pd.read_pickle('/home/michael/chicagohealthinspections/data/businessinfo.pkl')"
   ]
  },
  {
   "cell_type": "code",
   "execution_count": null,
   "metadata": {
    "collapsed": true
   },
   "outputs": [],
   "source": [
    "businfodf.head()"
   ]
  }
 ],
 "metadata": {
  "kernelspec": {
   "display_name": "Python 3",
   "language": "python",
   "name": "python3"
  },
  "language_info": {
   "codemirror_mode": {
    "name": "ipython",
    "version": 3
   },
   "file_extension": ".py",
   "mimetype": "text/x-python",
   "name": "python",
   "nbconvert_exporter": "python",
   "pygments_lexer": "ipython3",
   "version": "3.6.3"
  }
 },
 "nbformat": 4,
 "nbformat_minor": 2
}
