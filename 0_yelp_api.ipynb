{
 "cells": [
  {
   "cell_type": "code",
   "execution_count": 2,
   "metadata": {
    "collapsed": true
   },
   "outputs": [],
   "source": [
    "import pandas as pd\n",
    "import numpy as np\n",
    "import requests\n",
    "import json as js"
   ]
  },
  {
   "cell_type": "markdown",
   "metadata": {},
   "source": [
    "# 0.0 Pulling API Data\n",
    "## 0.1 Get Unique locations to do Yelp business ID lookup\n",
    "First we need to get each unique location to try to run them against the yelp API to see if we can get a business id"
   ]
  },
  {
   "cell_type": "code",
   "execution_count": 5,
   "metadata": {
    "collapsed": true
   },
   "outputs": [],
   "source": [
    "healthdf = pd.read_csv('/home/michael/Downloads/Food_Inspections.csv')"
   ]
  },
  {
   "cell_type": "code",
   "execution_count": 6,
   "metadata": {},
   "outputs": [
    {
     "data": {
      "text/plain": [
       "(164683, 17)"
      ]
     },
     "execution_count": 6,
     "metadata": {},
     "output_type": "execute_result"
    }
   ],
   "source": [
    "healthdf.shape"
   ]
  },
  {
   "cell_type": "code",
   "execution_count": 7,
   "metadata": {},
   "outputs": [
    {
     "data": {
      "text/html": [
       "<div>\n",
       "<style>\n",
       "    .dataframe thead tr:only-child th {\n",
       "        text-align: right;\n",
       "    }\n",
       "\n",
       "    .dataframe thead th {\n",
       "        text-align: left;\n",
       "    }\n",
       "\n",
       "    .dataframe tbody tr th {\n",
       "        vertical-align: top;\n",
       "    }\n",
       "</style>\n",
       "<table border=\"1\" class=\"dataframe\">\n",
       "  <thead>\n",
       "    <tr style=\"text-align: right;\">\n",
       "      <th></th>\n",
       "      <th>Inspection ID</th>\n",
       "      <th>DBA Name</th>\n",
       "      <th>AKA Name</th>\n",
       "      <th>License #</th>\n",
       "      <th>Facility Type</th>\n",
       "      <th>Risk</th>\n",
       "      <th>Address</th>\n",
       "      <th>City</th>\n",
       "      <th>State</th>\n",
       "      <th>Zip</th>\n",
       "      <th>Inspection Date</th>\n",
       "      <th>Inspection Type</th>\n",
       "      <th>Results</th>\n",
       "      <th>Violations</th>\n",
       "      <th>Latitude</th>\n",
       "      <th>Longitude</th>\n",
       "      <th>Location</th>\n",
       "    </tr>\n",
       "  </thead>\n",
       "  <tbody>\n",
       "    <tr>\n",
       "      <th>0</th>\n",
       "      <td>2144504</td>\n",
       "      <td>TAQUERIA EL RANCHITO</td>\n",
       "      <td>TAQUERIA EL RANCHITO</td>\n",
       "      <td>60184.0</td>\n",
       "      <td>Restaurant</td>\n",
       "      <td>Risk 1 (High)</td>\n",
       "      <td>2829 N MILWAUKEE AVE</td>\n",
       "      <td>CHICAGO</td>\n",
       "      <td>IL</td>\n",
       "      <td>60618.0</td>\n",
       "      <td>02/02/2018</td>\n",
       "      <td>Canvass Re-Inspection</td>\n",
       "      <td>Pass</td>\n",
       "      <td>31. CLEAN MULTI-USE UTENSILS AND SINGLE SERVIC...</td>\n",
       "      <td>41.932657</td>\n",
       "      <td>-87.713056</td>\n",
       "      <td>(41.93265693660558, -87.71305610116421)</td>\n",
       "    </tr>\n",
       "    <tr>\n",
       "      <th>1</th>\n",
       "      <td>2144489</td>\n",
       "      <td>EL TACONAZO JR.</td>\n",
       "      <td>EL TACONAZO JR.</td>\n",
       "      <td>2354772.0</td>\n",
       "      <td>Restaurant</td>\n",
       "      <td>Risk 1 (High)</td>\n",
       "      <td>4256 W FULLERTON AVE</td>\n",
       "      <td>CHICAGO</td>\n",
       "      <td>IL</td>\n",
       "      <td>60639.0</td>\n",
       "      <td>02/02/2018</td>\n",
       "      <td>Canvass</td>\n",
       "      <td>Pass w/ Conditions</td>\n",
       "      <td>3. POTENTIALLY HAZARDOUS FOOD MEETS TEMPERATUR...</td>\n",
       "      <td>41.924508</td>\n",
       "      <td>-87.733980</td>\n",
       "      <td>(41.92450769084945, -87.73398032565292)</td>\n",
       "    </tr>\n",
       "    <tr>\n",
       "      <th>2</th>\n",
       "      <td>2144480</td>\n",
       "      <td>BRICK HOUSE BAR AND GRILL</td>\n",
       "      <td>BRICK HOUSE BAR AND GRILL</td>\n",
       "      <td>1969907.0</td>\n",
       "      <td>Restaurant</td>\n",
       "      <td>Risk 1 (High)</td>\n",
       "      <td>3152-3154 W IRVING PARK RD</td>\n",
       "      <td>CHICAGO</td>\n",
       "      <td>IL</td>\n",
       "      <td>60618.0</td>\n",
       "      <td>02/02/2018</td>\n",
       "      <td>Canvass Re-Inspection</td>\n",
       "      <td>Pass</td>\n",
       "      <td>18. NO EVIDENCE OF RODENT OR INSECT OUTER OPEN...</td>\n",
       "      <td>41.954032</td>\n",
       "      <td>-87.707720</td>\n",
       "      <td>(41.95403155441393, -87.70771986355506)</td>\n",
       "    </tr>\n",
       "    <tr>\n",
       "      <th>3</th>\n",
       "      <td>2144477</td>\n",
       "      <td>THE VEGGIE GRILL</td>\n",
       "      <td>THE VEGGIE GRILL</td>\n",
       "      <td>2563666.0</td>\n",
       "      <td>NaN</td>\n",
       "      <td>Risk 1 (High)</td>\n",
       "      <td>614 W DIVERSEY AVE</td>\n",
       "      <td>CHICAGO</td>\n",
       "      <td>IL</td>\n",
       "      <td>60614.0</td>\n",
       "      <td>02/02/2018</td>\n",
       "      <td>License</td>\n",
       "      <td>Not Ready</td>\n",
       "      <td>NaN</td>\n",
       "      <td>41.932917</td>\n",
       "      <td>-87.644572</td>\n",
       "      <td>(41.93291687750861, -87.64457163885304)</td>\n",
       "    </tr>\n",
       "    <tr>\n",
       "      <th>4</th>\n",
       "      <td>2144474</td>\n",
       "      <td>SMOQUE BBQ</td>\n",
       "      <td>SMOQUE BBQ</td>\n",
       "      <td>1694866.0</td>\n",
       "      <td>Restaurant</td>\n",
       "      <td>Risk 1 (High)</td>\n",
       "      <td>3800 N PULASKI RD</td>\n",
       "      <td>CHICAGO</td>\n",
       "      <td>IL</td>\n",
       "      <td>60641.0</td>\n",
       "      <td>02/02/2018</td>\n",
       "      <td>Canvass</td>\n",
       "      <td>Pass w/ Conditions</td>\n",
       "      <td>38. VENTILATION: ROOMS AND EQUIPMENT VENTED AS...</td>\n",
       "      <td>41.950073</td>\n",
       "      <td>-87.727657</td>\n",
       "      <td>(41.95007328750793, -87.72765652046023)</td>\n",
       "    </tr>\n",
       "  </tbody>\n",
       "</table>\n",
       "</div>"
      ],
      "text/plain": [
       "   Inspection ID                   DBA Name                   AKA Name  \\\n",
       "0        2144504       TAQUERIA EL RANCHITO       TAQUERIA EL RANCHITO   \n",
       "1        2144489            EL TACONAZO JR.            EL TACONAZO JR.   \n",
       "2        2144480  BRICK HOUSE BAR AND GRILL  BRICK HOUSE BAR AND GRILL   \n",
       "3        2144477           THE VEGGIE GRILL           THE VEGGIE GRILL   \n",
       "4        2144474                 SMOQUE BBQ                 SMOQUE BBQ   \n",
       "\n",
       "   License # Facility Type           Risk                      Address  \\\n",
       "0    60184.0    Restaurant  Risk 1 (High)        2829 N MILWAUKEE AVE    \n",
       "1  2354772.0    Restaurant  Risk 1 (High)        4256 W FULLERTON AVE    \n",
       "2  1969907.0    Restaurant  Risk 1 (High)  3152-3154 W IRVING PARK RD    \n",
       "3  2563666.0           NaN  Risk 1 (High)          614 W DIVERSEY AVE    \n",
       "4  1694866.0    Restaurant  Risk 1 (High)           3800 N PULASKI RD    \n",
       "\n",
       "      City State      Zip Inspection Date        Inspection Type  \\\n",
       "0  CHICAGO    IL  60618.0      02/02/2018  Canvass Re-Inspection   \n",
       "1  CHICAGO    IL  60639.0      02/02/2018                Canvass   \n",
       "2  CHICAGO    IL  60618.0      02/02/2018  Canvass Re-Inspection   \n",
       "3  CHICAGO    IL  60614.0      02/02/2018                License   \n",
       "4  CHICAGO    IL  60641.0      02/02/2018                Canvass   \n",
       "\n",
       "              Results                                         Violations  \\\n",
       "0                Pass  31. CLEAN MULTI-USE UTENSILS AND SINGLE SERVIC...   \n",
       "1  Pass w/ Conditions  3. POTENTIALLY HAZARDOUS FOOD MEETS TEMPERATUR...   \n",
       "2                Pass  18. NO EVIDENCE OF RODENT OR INSECT OUTER OPEN...   \n",
       "3           Not Ready                                                NaN   \n",
       "4  Pass w/ Conditions  38. VENTILATION: ROOMS AND EQUIPMENT VENTED AS...   \n",
       "\n",
       "    Latitude  Longitude                                 Location  \n",
       "0  41.932657 -87.713056  (41.93265693660558, -87.71305610116421)  \n",
       "1  41.924508 -87.733980  (41.92450769084945, -87.73398032565292)  \n",
       "2  41.954032 -87.707720  (41.95403155441393, -87.70771986355506)  \n",
       "3  41.932917 -87.644572  (41.93291687750861, -87.64457163885304)  \n",
       "4  41.950073 -87.727657  (41.95007328750793, -87.72765652046023)  "
      ]
     },
     "execution_count": 7,
     "metadata": {},
     "output_type": "execute_result"
    }
   ],
   "source": [
    "healthdf.head()"
   ]
  },
  {
   "cell_type": "code",
   "execution_count": 46,
   "metadata": {
    "scrolled": true
   },
   "outputs": [
    {
     "data": {
      "text/html": [
       "<div>\n",
       "<style>\n",
       "    .dataframe thead tr:only-child th {\n",
       "        text-align: right;\n",
       "    }\n",
       "\n",
       "    .dataframe thead th {\n",
       "        text-align: left;\n",
       "    }\n",
       "\n",
       "    .dataframe tbody tr th {\n",
       "        vertical-align: top;\n",
       "    }\n",
       "</style>\n",
       "<table border=\"1\" class=\"dataframe\">\n",
       "  <thead>\n",
       "    <tr style=\"text-align: right;\">\n",
       "      <th></th>\n",
       "      <th>DBA Name</th>\n",
       "      <th>Address</th>\n",
       "      <th>Latitude</th>\n",
       "      <th>Longitude</th>\n",
       "      <th>LocId</th>\n",
       "    </tr>\n",
       "  </thead>\n",
       "  <tbody>\n",
       "    <tr>\n",
       "      <th>164583</th>\n",
       "      <td>Eastside Soccer Dome, Inc.</td>\n",
       "      <td>11919 S Avenue O AVE FL</td>\n",
       "      <td>41.678517</td>\n",
       "      <td>-87.539894</td>\n",
       "      <td>28950</td>\n",
       "    </tr>\n",
       "    <tr>\n",
       "      <th>164612</th>\n",
       "      <td>DUNKIN DONUTS</td>\n",
       "      <td>970 W PERSHING RD</td>\n",
       "      <td>41.823504</td>\n",
       "      <td>-87.650666</td>\n",
       "      <td>28951</td>\n",
       "    </tr>\n",
       "    <tr>\n",
       "      <th>164621</th>\n",
       "      <td>SAFAH FOOD &amp; LIQUOR INC</td>\n",
       "      <td>7105 S RACINE AVE</td>\n",
       "      <td>41.764896</td>\n",
       "      <td>-87.653965</td>\n",
       "      <td>28952</td>\n",
       "    </tr>\n",
       "    <tr>\n",
       "      <th>164636</th>\n",
       "      <td>RAINBOW GROCERY</td>\n",
       "      <td>2003 W 69TH ST</td>\n",
       "      <td>41.768328</td>\n",
       "      <td>-87.673819</td>\n",
       "      <td>28953</td>\n",
       "    </tr>\n",
       "    <tr>\n",
       "      <th>164644</th>\n",
       "      <td>MAKIA FOOD</td>\n",
       "      <td>2458 S CALIFORNIA AVE</td>\n",
       "      <td>41.846516</td>\n",
       "      <td>-87.695423</td>\n",
       "      <td>28954</td>\n",
       "    </tr>\n",
       "  </tbody>\n",
       "</table>\n",
       "</div>"
      ],
      "text/plain": [
       "                          DBA Name                   Address   Latitude  \\\n",
       "164583  Eastside Soccer Dome, Inc.  11919 S Avenue O AVE FL   41.678517   \n",
       "164612               DUNKIN DONUTS        970 W PERSHING RD   41.823504   \n",
       "164621     SAFAH FOOD & LIQUOR INC        7105 S RACINE AVE   41.764896   \n",
       "164636             RAINBOW GROCERY           2003 W 69TH ST   41.768328   \n",
       "164644                  MAKIA FOOD    2458 S CALIFORNIA AVE   41.846516   \n",
       "\n",
       "        Longitude  LocId  \n",
       "164583 -87.539894  28950  \n",
       "164612 -87.650666  28951  \n",
       "164621 -87.653965  28952  \n",
       "164636 -87.673819  28953  \n",
       "164644 -87.695423  28954  "
      ]
     },
     "execution_count": 46,
     "metadata": {},
     "output_type": "execute_result"
    }
   ],
   "source": [
    "idlookupdf = healthdf[['DBA Name','Address','Latitude','Longitude']].copy(deep=True)\n",
    "idlookupdf = idlookupdf.drop_duplicates()\n",
    "idlookupdf['LocId'] = range(1, len(idlookupdf) + 1)\n",
    "\n",
    "idlookupdf.tail()"
   ]
  },
  {
   "cell_type": "markdown",
   "metadata": {},
   "source": [
    "## 0.2 Lookup Busness ID in Yelp API\n",
    "We will need the exact business id to look up the business info for the project.\n",
    "We need to use the lookup API to match the location to the business ID"
   ]
  },
  {
   "cell_type": "code",
   "execution_count": 83,
   "metadata": {
    "collapsed": true
   },
   "outputs": [],
   "source": [
    "api_key = 'sBOkZripW7GrsfC-YUK0in8lvw4brdRutRBA8qrUeeEdTnO_RnZok2gMWELxr-bIkaGprF65q_jT1EWSnwINomxtOQPEBLq1gsQ7yKtIRv78V9ErJP0NjRxjGvp5WnYx'\n",
    "headers = {'Authorization':'Bearer '+api_key}"
   ]
  },
  {
   "cell_type": "code",
   "execution_count": 68,
   "metadata": {
    "collapsed": true
   },
   "outputs": [],
   "source": [
    "url = \"https://api.yelp.com/v3/businesses/matches/best\""
   ]
  },
  {
   "cell_type": "code",
   "execution_count": 163,
   "metadata": {
    "collapsed": true
   },
   "outputs": [],
   "source": [
    "def id_lookup(name,address,lat,long,locid,df):\n",
    "    '''\n",
    "    Function to take request parameters and update dataframe with get info\n",
    "    also saves to log each addition so if it fails I can pick up where it left off\n",
    "    '''\n",
    "    param = {'name': str(name),\n",
    "                'address1': str(address),\n",
    "                'city': 'Chicago',\n",
    "                'state': 'IL',\n",
    "                'country': 'US',\n",
    "                'latitude': lat,\n",
    "                'longitude':long}\n",
    "    try:\n",
    "        req = requests.get(url, params = param, headers = headers)\n",
    "        req.raise_for_status()\n",
    "        newdf = pd.io.json.json_normalize(req.json(),'businesses')\n",
    "        newdf['LocId'] = locid\n",
    "        df = df.append(newdf)\n",
    "        df.to_pickle('/home/michael/chicagohealthinspections/data/idlookup.pkl')\n",
    "    except:\n",
    "        df = df\n",
    "    return df"
   ]
  },
  {
   "cell_type": "code",
   "execution_count": 19,
   "metadata": {},
   "outputs": [
    {
     "data": {
      "text/plain": [
       "30072"
      ]
     },
     "execution_count": 19,
     "metadata": {},
     "output_type": "execute_result"
    }
   ],
   "source": [
    "idresults = pd.read_pickle('/home/michael/chicagohealthinspections/data/idlookup.pkl')"
   ]
  },
  {
   "cell_type": "code",
   "execution_count": 57,
   "metadata": {},
   "outputs": [
    {
     "ename": "AttributeError",
     "evalue": "'Series' object has no attribute 'iterrows'",
     "output_type": "error",
     "traceback": [
      "\u001b[0;31m---------------------------------------------------------------------------\u001b[0m",
      "\u001b[0;31mAttributeError\u001b[0m                            Traceback (most recent call last)",
      "\u001b[0;32m<ipython-input-57-652cf4e4af8f>\u001b[0m in \u001b[0;36m<module>\u001b[0;34m()\u001b[0m\n\u001b[0;32m----> 1\u001b[0;31m \u001b[0;32mfor\u001b[0m \u001b[0mindex\u001b[0m\u001b[0;34m,\u001b[0m \u001b[0mrow\u001b[0m \u001b[0;32min\u001b[0m \u001b[0midlookupdf\u001b[0m\u001b[0;34m.\u001b[0m\u001b[0miloc\u001b[0m\u001b[0;34m[\u001b[0m\u001b[0;36m0\u001b[0m\u001b[0;34m]\u001b[0m\u001b[0;34m.\u001b[0m\u001b[0miterrows\u001b[0m\u001b[0;34m(\u001b[0m\u001b[0;34m)\u001b[0m\u001b[0;34m:\u001b[0m\u001b[0;34m\u001b[0m\u001b[0m\n\u001b[0m\u001b[1;32m      2\u001b[0m     \u001b[0midresults\u001b[0m \u001b[0;34m=\u001b[0m \u001b[0mid_lookup\u001b[0m\u001b[0;34m(\u001b[0m\u001b[0mrow\u001b[0m\u001b[0;34m[\u001b[0m\u001b[0;34m'DBA Name'\u001b[0m\u001b[0;34m]\u001b[0m\u001b[0;34m,\u001b[0m\u001b[0mrow\u001b[0m\u001b[0;34m[\u001b[0m\u001b[0;34m'Address'\u001b[0m\u001b[0;34m]\u001b[0m\u001b[0;34m,\u001b[0m\u001b[0mrow\u001b[0m\u001b[0;34m[\u001b[0m\u001b[0;34m'Latitude'\u001b[0m\u001b[0;34m]\u001b[0m\u001b[0;34m,\u001b[0m\u001b[0mrow\u001b[0m\u001b[0;34m[\u001b[0m\u001b[0;34m'Longitude'\u001b[0m\u001b[0;34m]\u001b[0m\u001b[0;34m,\u001b[0m\u001b[0mrow\u001b[0m\u001b[0;34m[\u001b[0m\u001b[0;34m'LocId'\u001b[0m\u001b[0;34m]\u001b[0m\u001b[0;34m,\u001b[0m\u001b[0midresults\u001b[0m\u001b[0;34m)\u001b[0m\u001b[0;34m\u001b[0m\u001b[0m\n",
      "\u001b[0;32m~/anaconda3/lib/python3.6/site-packages/pandas/core/generic.py\u001b[0m in \u001b[0;36m__getattr__\u001b[0;34m(self, name)\u001b[0m\n\u001b[1;32m   3079\u001b[0m             \u001b[0;32mif\u001b[0m \u001b[0mname\u001b[0m \u001b[0;32min\u001b[0m \u001b[0mself\u001b[0m\u001b[0;34m.\u001b[0m\u001b[0m_info_axis\u001b[0m\u001b[0;34m:\u001b[0m\u001b[0;34m\u001b[0m\u001b[0m\n\u001b[1;32m   3080\u001b[0m                 \u001b[0;32mreturn\u001b[0m \u001b[0mself\u001b[0m\u001b[0;34m[\u001b[0m\u001b[0mname\u001b[0m\u001b[0;34m]\u001b[0m\u001b[0;34m\u001b[0m\u001b[0m\n\u001b[0;32m-> 3081\u001b[0;31m             \u001b[0;32mreturn\u001b[0m \u001b[0mobject\u001b[0m\u001b[0;34m.\u001b[0m\u001b[0m__getattribute__\u001b[0m\u001b[0;34m(\u001b[0m\u001b[0mself\u001b[0m\u001b[0;34m,\u001b[0m \u001b[0mname\u001b[0m\u001b[0;34m)\u001b[0m\u001b[0;34m\u001b[0m\u001b[0m\n\u001b[0m\u001b[1;32m   3082\u001b[0m \u001b[0;34m\u001b[0m\u001b[0m\n\u001b[1;32m   3083\u001b[0m     \u001b[0;32mdef\u001b[0m \u001b[0m__setattr__\u001b[0m\u001b[0;34m(\u001b[0m\u001b[0mself\u001b[0m\u001b[0;34m,\u001b[0m \u001b[0mname\u001b[0m\u001b[0;34m,\u001b[0m \u001b[0mvalue\u001b[0m\u001b[0;34m)\u001b[0m\u001b[0;34m:\u001b[0m\u001b[0;34m\u001b[0m\u001b[0m\n",
      "\u001b[0;31mAttributeError\u001b[0m: 'Series' object has no attribute 'iterrows'"
     ]
    }
   ],
   "source": [
    "for index, row in idlookupdf.iterrows():\n",
    "    idresults = id_lookup(row['DBA Name'],row['Address'],row['Latitude'],row['Longitude'],row['LocId'],idresults)"
   ]
  },
  {
   "cell_type": "code",
   "execution_count": 58,
   "metadata": {
    "collapsed": true
   },
   "outputs": [],
   "source": [
    "idlink = pd.merge(idlookupdf,idresults,how='inner')\n",
    "idlink = idlink[['DBA Name','Address','Latitude','Longitude','LocId','id']]\n",
    "#idlink.to_pickle('/home/michael/chicagohealthinspections/data/idlink.pkl')"
   ]
  },
  {
   "cell_type": "code",
   "execution_count": 73,
   "metadata": {},
   "outputs": [
    {
     "data": {
      "text/plain": [
       "(15740, 6)"
      ]
     },
     "execution_count": 73,
     "metadata": {},
     "output_type": "execute_result"
    }
   ],
   "source": [
    "idlink.shape"
   ]
  },
  {
   "cell_type": "code",
   "execution_count": 77,
   "metadata": {},
   "outputs": [
    {
     "data": {
      "text/plain": [
       "(13214, 6)"
      ]
     },
     "execution_count": 77,
     "metadata": {},
     "output_type": "execute_result"
    }
   ],
   "source": [
    "missingids = pd.merge(idlookupdf,idlink,how='left')\n",
    "missingids = missingids[pd.isnull(missingids['id'])]\n",
    "missingids.shape"
   ]
  },
  {
   "cell_type": "markdown",
   "metadata": {},
   "source": [
    "## 0.3 Use Id Link file to pull business info\n",
    "Now that I have the business Ids, i can now look up the specific business information for matched locations"
   ]
  },
  {
   "cell_type": "code",
   "execution_count": 78,
   "metadata": {
    "collapsed": true
   },
   "outputs": [],
   "source": [
    "idlink = pd.read_pickle('/home/michael/chicagohealthinspections/data/idlink.pkl')"
   ]
  },
  {
   "cell_type": "code",
   "execution_count": 79,
   "metadata": {},
   "outputs": [
    {
     "data": {
      "text/html": [
       "<div>\n",
       "<style>\n",
       "    .dataframe thead tr:only-child th {\n",
       "        text-align: right;\n",
       "    }\n",
       "\n",
       "    .dataframe thead th {\n",
       "        text-align: left;\n",
       "    }\n",
       "\n",
       "    .dataframe tbody tr th {\n",
       "        vertical-align: top;\n",
       "    }\n",
       "</style>\n",
       "<table border=\"1\" class=\"dataframe\">\n",
       "  <thead>\n",
       "    <tr style=\"text-align: right;\">\n",
       "      <th></th>\n",
       "      <th>DBA Name</th>\n",
       "      <th>Address</th>\n",
       "      <th>Latitude</th>\n",
       "      <th>Longitude</th>\n",
       "      <th>LocId</th>\n",
       "      <th>id</th>\n",
       "    </tr>\n",
       "  </thead>\n",
       "  <tbody>\n",
       "    <tr>\n",
       "      <th>0</th>\n",
       "      <td>TAQUERIA EL RANCHITO</td>\n",
       "      <td>2829 N MILWAUKEE AVE</td>\n",
       "      <td>41.932657</td>\n",
       "      <td>-87.713056</td>\n",
       "      <td>1</td>\n",
       "      <td>el-ranchito-restaurant-chicago-5</td>\n",
       "    </tr>\n",
       "    <tr>\n",
       "      <th>1</th>\n",
       "      <td>EL TACONAZO JR.</td>\n",
       "      <td>4256 W FULLERTON AVE</td>\n",
       "      <td>41.924508</td>\n",
       "      <td>-87.733980</td>\n",
       "      <td>2</td>\n",
       "      <td>el-taconazo-chicago-4</td>\n",
       "    </tr>\n",
       "    <tr>\n",
       "      <th>2</th>\n",
       "      <td>BRICK HOUSE BAR AND GRILL</td>\n",
       "      <td>3152-3154 W IRVING PARK RD</td>\n",
       "      <td>41.954032</td>\n",
       "      <td>-87.707720</td>\n",
       "      <td>3</td>\n",
       "      <td>brick-house-cafe-chicago</td>\n",
       "    </tr>\n",
       "    <tr>\n",
       "      <th>3</th>\n",
       "      <td>SMOQUE BBQ</td>\n",
       "      <td>3800 N PULASKI RD</td>\n",
       "      <td>41.950073</td>\n",
       "      <td>-87.727657</td>\n",
       "      <td>5</td>\n",
       "      <td>smoque-bbq-chicago</td>\n",
       "    </tr>\n",
       "    <tr>\n",
       "      <th>4</th>\n",
       "      <td>GALA BANQUETS</td>\n",
       "      <td>5639 N MILWAUKEE AVE</td>\n",
       "      <td>41.984011</td>\n",
       "      <td>-87.775172</td>\n",
       "      <td>7</td>\n",
       "      <td>gala-banquets-chicago</td>\n",
       "    </tr>\n",
       "  </tbody>\n",
       "</table>\n",
       "</div>"
      ],
      "text/plain": [
       "                    DBA Name                      Address   Latitude  \\\n",
       "0       TAQUERIA EL RANCHITO        2829 N MILWAUKEE AVE   41.932657   \n",
       "1            EL TACONAZO JR.        4256 W FULLERTON AVE   41.924508   \n",
       "2  BRICK HOUSE BAR AND GRILL  3152-3154 W IRVING PARK RD   41.954032   \n",
       "3                 SMOQUE BBQ           3800 N PULASKI RD   41.950073   \n",
       "4              GALA BANQUETS        5639 N MILWAUKEE AVE   41.984011   \n",
       "\n",
       "   Longitude  LocId                                id  \n",
       "0 -87.713056      1  el-ranchito-restaurant-chicago-5  \n",
       "1 -87.733980      2             el-taconazo-chicago-4  \n",
       "2 -87.707720      3          brick-house-cafe-chicago  \n",
       "3 -87.727657      5                smoque-bbq-chicago  \n",
       "4 -87.775172      7             gala-banquets-chicago  "
      ]
     },
     "execution_count": 79,
     "metadata": {},
     "output_type": "execute_result"
    }
   ],
   "source": [
    "idlink.head()"
   ]
  },
  {
   "cell_type": "code",
   "execution_count": 124,
   "metadata": {
    "collapsed": true
   },
   "outputs": [],
   "source": [
    "def business_lookup(businessid,df):\n",
    "    '''\n",
    "    Takes business Id and dataframe and appends data frame with results from business id lookup request\n",
    "    '''\n",
    "    try:\n",
    "        url2 = 'https://api.yelp.com/v3/businesses/'\n",
    "        json =  test = requests.get(url2+str(businessid), headers = headers)\n",
    "        newdf = pd.io.json.json_normalize(json.json())\n",
    "        df = df.append(newdf)\n",
    "        df.to_pickle('/home/michael/chicagohealthinspections/data/businessinfo.pkl')\n",
    "    except:\n",
    "        df = df\n",
    "    return df"
   ]
  },
  {
   "cell_type": "code",
   "execution_count": 131,
   "metadata": {},
   "outputs": [
    {
     "data": {
      "text/plain": [
       "(14566, 28)"
      ]
     },
     "execution_count": 131,
     "metadata": {},
     "output_type": "execute_result"
    }
   ],
   "source": [
    "businfodf = pd.read_pickle('/home/michael/chicagohealthinspections/data/businessinfo.pkl')\n",
    "businfodf.shape"
   ]
  },
  {
   "cell_type": "code",
   "execution_count": 133,
   "metadata": {},
   "outputs": [
    {
     "data": {
      "text/plain": [
       "(5, 33)"
      ]
     },
     "execution_count": 133,
     "metadata": {},
     "output_type": "execute_result"
    }
   ],
   "source": [
    "update = pd.merge(idlink,businfodf,how='left')\n",
    "update = update[pd.isnull(update['name'])]\n",
    "update.shape"
   ]
  },
  {
   "cell_type": "code",
   "execution_count": 130,
   "metadata": {
    "collapsed": true
   },
   "outputs": [],
   "source": [
    "for index, row in update.iterrows():\n",
    "    businfodf = business_lookup(row['id'],businfodf)"
   ]
  },
  {
   "cell_type": "code",
   "execution_count": null,
   "metadata": {
    "collapsed": true
   },
   "outputs": [],
   "source": []
  }
 ],
 "metadata": {
  "kernelspec": {
   "display_name": "Python 3",
   "language": "python",
   "name": "python3"
  },
  "language_info": {
   "codemirror_mode": {
    "name": "ipython",
    "version": 3
   },
   "file_extension": ".py",
   "mimetype": "text/x-python",
   "name": "python",
   "nbconvert_exporter": "python",
   "pygments_lexer": "ipython3",
   "version": "3.6.3"
  }
 },
 "nbformat": 4,
 "nbformat_minor": 2
}
